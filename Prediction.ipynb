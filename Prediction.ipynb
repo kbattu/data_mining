{
 "cells": [
  {
   "cell_type": "code",
   "execution_count": 2,
   "metadata": {},
   "outputs": [],
   "source": [
    "import pandas as pd\n",
    "import numpy as np\n",
    "from sklearn.cluster import KMeans\n",
    "%matplotlib inline\n",
    "import matplotlib.pyplot as plt\n",
    "\n",
    "movies_data = pd.read_csv(r'C:\\Users\\battu\\Desktop\\DM\\dataset\\movies.csv', low_memory=False)\n",
    "movies = movies_data[['movieId', 'title', 'directedBy', 'starring', 'genres']]\n",
    "\n",
    "ratings = pd.read_csv(r'C:\\Users\\battu\\Desktop\\DM\\dataset\\training.csv', sep=',')\n",
    "del ratings[\"timestamp\"]"
   ]
  },
  {
   "cell_type": "code",
   "execution_count": 3,
   "metadata": {},
   "outputs": [
    {
     "data": {
      "text/html": [
       "<div>\n",
       "<style scoped>\n",
       "    .dataframe tbody tr th:only-of-type {\n",
       "        vertical-align: middle;\n",
       "    }\n",
       "\n",
       "    .dataframe tbody tr th {\n",
       "        vertical-align: top;\n",
       "    }\n",
       "\n",
       "    .dataframe thead th {\n",
       "        text-align: right;\n",
       "    }\n",
       "</style>\n",
       "<table border=\"1\" class=\"dataframe\">\n",
       "  <thead>\n",
       "    <tr style=\"text-align: right;\">\n",
       "      <th></th>\n",
       "      <th>movieId</th>\n",
       "      <th>title</th>\n",
       "      <th>directedBy</th>\n",
       "      <th>starring</th>\n",
       "      <th>genres</th>\n",
       "    </tr>\n",
       "  </thead>\n",
       "  <tbody>\n",
       "    <tr>\n",
       "      <th>0</th>\n",
       "      <td>1</td>\n",
       "      <td>Toy Story (1995)</td>\n",
       "      <td>John Lasseter</td>\n",
       "      <td>Tim Allen, Tom Hanks, Don Rickles, Jim Varney,...</td>\n",
       "      <td>Adventure,Animation,Children,Comedy,Fantasy</td>\n",
       "    </tr>\n",
       "    <tr>\n",
       "      <th>1</th>\n",
       "      <td>2</td>\n",
       "      <td>Jumanji (1995)</td>\n",
       "      <td>Joe Johnston</td>\n",
       "      <td>Jonathan Hyde, Bradley Pierce, Robin Williams,...</td>\n",
       "      <td>Adventure,Children,Fantasy</td>\n",
       "    </tr>\n",
       "    <tr>\n",
       "      <th>2</th>\n",
       "      <td>3</td>\n",
       "      <td>Grumpier Old Men (1995)</td>\n",
       "      <td>Howard Deutch</td>\n",
       "      <td>Jack Lemmon, Walter Matthau, Ann-Margret , Sop...</td>\n",
       "      <td>Comedy,Romance</td>\n",
       "    </tr>\n",
       "    <tr>\n",
       "      <th>3</th>\n",
       "      <td>4</td>\n",
       "      <td>Waiting to Exhale (1995)</td>\n",
       "      <td>Forest Whitaker</td>\n",
       "      <td>Angela Bassett, Loretta Devine, Whitney Housto...</td>\n",
       "      <td>Comedy,Drama,Romance</td>\n",
       "    </tr>\n",
       "    <tr>\n",
       "      <th>4</th>\n",
       "      <td>5</td>\n",
       "      <td>Father of the Bride Part II (1995)</td>\n",
       "      <td>Charles Shyer</td>\n",
       "      <td>Steve Martin, Martin Short, Diane Keaton, Kimb...</td>\n",
       "      <td>Comedy</td>\n",
       "    </tr>\n",
       "  </tbody>\n",
       "</table>\n",
       "</div>"
      ],
      "text/plain": [
       "   movieId                               title       directedBy  \\\n",
       "0        1                    Toy Story (1995)    John Lasseter   \n",
       "1        2                      Jumanji (1995)     Joe Johnston   \n",
       "2        3             Grumpier Old Men (1995)    Howard Deutch   \n",
       "3        4            Waiting to Exhale (1995)  Forest Whitaker   \n",
       "4        5  Father of the Bride Part II (1995)    Charles Shyer   \n",
       "\n",
       "                                            starring  \\\n",
       "0  Tim Allen, Tom Hanks, Don Rickles, Jim Varney,...   \n",
       "1  Jonathan Hyde, Bradley Pierce, Robin Williams,...   \n",
       "2  Jack Lemmon, Walter Matthau, Ann-Margret , Sop...   \n",
       "3  Angela Bassett, Loretta Devine, Whitney Housto...   \n",
       "4  Steve Martin, Martin Short, Diane Keaton, Kimb...   \n",
       "\n",
       "                                        genres  \n",
       "0  Adventure,Animation,Children,Comedy,Fantasy  \n",
       "1                   Adventure,Children,Fantasy  \n",
       "2                               Comedy,Romance  \n",
       "3                         Comedy,Drama,Romance  \n",
       "4                                       Comedy  "
      ]
     },
     "execution_count": 3,
     "metadata": {},
     "output_type": "execute_result"
    }
   ],
   "source": [
    "movies = movies.dropna(subset=['genres'])\n",
    "movies.head()"
   ]
  },
  {
   "cell_type": "code",
   "execution_count": 4,
   "metadata": {},
   "outputs": [
    {
     "data": {
      "text/html": [
       "<div>\n",
       "<style scoped>\n",
       "    .dataframe tbody tr th:only-of-type {\n",
       "        vertical-align: middle;\n",
       "    }\n",
       "\n",
       "    .dataframe tbody tr th {\n",
       "        vertical-align: top;\n",
       "    }\n",
       "\n",
       "    .dataframe thead th {\n",
       "        text-align: right;\n",
       "    }\n",
       "</style>\n",
       "<table border=\"1\" class=\"dataframe\">\n",
       "  <thead>\n",
       "    <tr style=\"text-align: right;\">\n",
       "      <th></th>\n",
       "      <th>userId</th>\n",
       "      <th>movieId</th>\n",
       "      <th>rating</th>\n",
       "    </tr>\n",
       "  </thead>\n",
       "  <tbody>\n",
       "    <tr>\n",
       "      <th>0</th>\n",
       "      <td>142882</td>\n",
       "      <td>91658</td>\n",
       "      <td>2.5</td>\n",
       "    </tr>\n",
       "    <tr>\n",
       "      <th>1</th>\n",
       "      <td>142882</td>\n",
       "      <td>4344</td>\n",
       "      <td>1.0</td>\n",
       "    </tr>\n",
       "    <tr>\n",
       "      <th>2</th>\n",
       "      <td>142882</td>\n",
       "      <td>45720</td>\n",
       "      <td>2.0</td>\n",
       "    </tr>\n",
       "    <tr>\n",
       "      <th>3</th>\n",
       "      <td>142882</td>\n",
       "      <td>4734</td>\n",
       "      <td>2.0</td>\n",
       "    </tr>\n",
       "    <tr>\n",
       "      <th>4</th>\n",
       "      <td>142882</td>\n",
       "      <td>91542</td>\n",
       "      <td>2.0</td>\n",
       "    </tr>\n",
       "  </tbody>\n",
       "</table>\n",
       "</div>"
      ],
      "text/plain": [
       "   userId  movieId  rating\n",
       "0  142882    91658     2.5\n",
       "1  142882     4344     1.0\n",
       "2  142882    45720     2.0\n",
       "3  142882     4734     2.0\n",
       "4  142882    91542     2.0"
      ]
     },
     "execution_count": 4,
     "metadata": {},
     "output_type": "execute_result"
    }
   ],
   "source": [
    "ratings.head()"
   ]
  },
  {
   "cell_type": "code",
   "execution_count": 5,
   "metadata": {},
   "outputs": [
    {
     "data": {
      "text/plain": [
       "False"
      ]
     },
     "execution_count": 5,
     "metadata": {},
     "output_type": "execute_result"
    }
   ],
   "source": [
    "ratings[\"rating\"].isnull().any()"
   ]
  },
  {
   "cell_type": "code",
   "execution_count": 6,
   "metadata": {},
   "outputs": [
    {
     "data": {
      "text/plain": [
       "2571     42120\n",
       "318      40889\n",
       "79132    37947\n",
       "58559    34531\n",
       "2959     34290\n",
       "Name: movieId, dtype: int64"
      ]
     },
     "execution_count": 6,
     "metadata": {},
     "output_type": "execute_result"
    }
   ],
   "source": [
    "ratingCounts=ratings[\"movieId\"].value_counts()\n",
    "ratingCounts.head()"
   ]
  },
  {
   "cell_type": "code",
   "execution_count": 7,
   "metadata": {},
   "outputs": [],
   "source": [
    "mId = 2571"
   ]
  },
  {
   "cell_type": "code",
   "execution_count": 8,
   "metadata": {},
   "outputs": [
    {
     "data": {
      "text/html": [
       "<div>\n",
       "<style scoped>\n",
       "    .dataframe tbody tr th:only-of-type {\n",
       "        vertical-align: middle;\n",
       "    }\n",
       "\n",
       "    .dataframe tbody tr th {\n",
       "        vertical-align: top;\n",
       "    }\n",
       "\n",
       "    .dataframe thead th {\n",
       "        text-align: right;\n",
       "    }\n",
       "</style>\n",
       "<table border=\"1\" class=\"dataframe\">\n",
       "  <thead>\n",
       "    <tr style=\"text-align: right;\">\n",
       "      <th></th>\n",
       "      <th>movieId</th>\n",
       "      <th>title</th>\n",
       "      <th>directedBy</th>\n",
       "      <th>starring</th>\n",
       "      <th>genres</th>\n",
       "    </tr>\n",
       "  </thead>\n",
       "  <tbody>\n",
       "    <tr>\n",
       "      <th>2418</th>\n",
       "      <td>2571</td>\n",
       "      <td>Matrix, The (1999)</td>\n",
       "      <td>Andy Wachowski, Larry Wachowski</td>\n",
       "      <td>Laurence Fishburne, Keanu Reeves, Hugo Weaving...</td>\n",
       "      <td>Action,Sci-Fi,Thriller</td>\n",
       "    </tr>\n",
       "  </tbody>\n",
       "</table>\n",
       "</div>"
      ],
      "text/plain": [
       "      movieId               title                       directedBy  \\\n",
       "2418     2571  Matrix, The (1999)  Andy Wachowski, Larry Wachowski   \n",
       "\n",
       "                                               starring  \\\n",
       "2418  Laurence Fishburne, Keanu Reeves, Hugo Weaving...   \n",
       "\n",
       "                      genres  \n",
       "2418  Action,Sci-Fi,Thriller  "
      ]
     },
     "execution_count": 8,
     "metadata": {},
     "output_type": "execute_result"
    }
   ],
   "source": [
    "movies[movies[\"movieId\"] == mId]"
   ]
  },
  {
   "cell_type": "code",
   "execution_count": 9,
   "metadata": {},
   "outputs": [
    {
     "data": {
      "text/plain": [
       "userId     42120\n",
       "movieId    42120\n",
       "rating     42120\n",
       "dtype: int64"
      ]
     },
     "execution_count": 9,
     "metadata": {},
     "output_type": "execute_result"
    }
   ],
   "source": [
    "ratingsOfInterest = ratings[ratings[\"movieId\"]==mId]\n",
    "ratingsOfInterest.count()"
   ]
  },
  {
   "cell_type": "code",
   "execution_count": 10,
   "metadata": {},
   "outputs": [
    {
     "data": {
      "text/plain": [
       "40.2442170435979"
      ]
     },
     "execution_count": 10,
     "metadata": {},
     "output_type": "execute_result"
    }
   ],
   "source": [
    "len(ratingsOfInterest[\"userId\"].unique().tolist())/len(ratings[\"userId\"].unique().tolist())*100"
   ]
  },
  {
   "cell_type": "code",
   "execution_count": 11,
   "metadata": {},
   "outputs": [
    {
     "data": {
      "text/html": [
       "<div>\n",
       "<style scoped>\n",
       "    .dataframe tbody tr th:only-of-type {\n",
       "        vertical-align: middle;\n",
       "    }\n",
       "\n",
       "    .dataframe tbody tr th {\n",
       "        vertical-align: top;\n",
       "    }\n",
       "\n",
       "    .dataframe thead th {\n",
       "        text-align: right;\n",
       "    }\n",
       "</style>\n",
       "<table border=\"1\" class=\"dataframe\">\n",
       "  <thead>\n",
       "    <tr style=\"text-align: right;\">\n",
       "      <th></th>\n",
       "      <th>userId</th>\n",
       "      <th>movieId</th>\n",
       "      <th>rating</th>\n",
       "    </tr>\n",
       "  </thead>\n",
       "  <tbody>\n",
       "    <tr>\n",
       "      <th>418</th>\n",
       "      <td>142914</td>\n",
       "      <td>2571</td>\n",
       "      <td>3.5</td>\n",
       "    </tr>\n",
       "    <tr>\n",
       "      <th>498</th>\n",
       "      <td>142913</td>\n",
       "      <td>2571</td>\n",
       "      <td>4.5</td>\n",
       "    </tr>\n",
       "    <tr>\n",
       "      <th>1202</th>\n",
       "      <td>142905</td>\n",
       "      <td>2571</td>\n",
       "      <td>2.0</td>\n",
       "    </tr>\n",
       "    <tr>\n",
       "      <th>1478</th>\n",
       "      <td>142911</td>\n",
       "      <td>2571</td>\n",
       "      <td>4.0</td>\n",
       "    </tr>\n",
       "    <tr>\n",
       "      <th>1755</th>\n",
       "      <td>142909</td>\n",
       "      <td>2571</td>\n",
       "      <td>4.0</td>\n",
       "    </tr>\n",
       "  </tbody>\n",
       "</table>\n",
       "</div>"
      ],
      "text/plain": [
       "      userId  movieId  rating\n",
       "418   142914     2571     3.5\n",
       "498   142913     2571     4.5\n",
       "1202  142905     2571     2.0\n",
       "1478  142911     2571     4.0\n",
       "1755  142909     2571     4.0"
      ]
     },
     "execution_count": 11,
     "metadata": {},
     "output_type": "execute_result"
    }
   ],
   "source": [
    "ratingsOfInterest.head()"
   ]
  },
  {
   "cell_type": "code",
   "execution_count": 12,
   "metadata": {},
   "outputs": [
    {
     "data": {
      "text/plain": [
       "42120"
      ]
     },
     "execution_count": 12,
     "metadata": {},
     "output_type": "execute_result"
    }
   ],
   "source": [
    "users = ratingsOfInterest[\"userId\"].unique().tolist()\n",
    "len(users)"
   ]
  },
  {
   "cell_type": "code",
   "execution_count": 13,
   "metadata": {},
   "outputs": [
    {
     "name": "stdout",
     "output_type": "stream",
     "text": [
      "training:  29483\n",
      "test:  12636\n"
     ]
    }
   ],
   "source": [
    "trainingProp = 0.7\n",
    "testProp = 1-trainingProp\n",
    "\n",
    "print(\"training: \", int(len(users)*trainingProp))\n",
    "print(\"test: \", int(len(users)*testProp))"
   ]
  },
  {
   "cell_type": "code",
   "execution_count": 14,
   "metadata": {},
   "outputs": [],
   "source": [
    "import random\n",
    "random.shuffle(users)"
   ]
  },
  {
   "cell_type": "code",
   "execution_count": 15,
   "metadata": {},
   "outputs": [
    {
     "data": {
      "text/plain": [
       "29483"
      ]
     },
     "execution_count": 15,
     "metadata": {},
     "output_type": "execute_result"
    }
   ],
   "source": [
    "trainingUsers = users[:int(len(users)*trainingProp)]\n",
    "len(trainingUsers)"
   ]
  },
  {
   "cell_type": "code",
   "execution_count": 16,
   "metadata": {},
   "outputs": [
    {
     "data": {
      "text/plain": [
       "12637"
      ]
     },
     "execution_count": 16,
     "metadata": {},
     "output_type": "execute_result"
    }
   ],
   "source": [
    "testUsers = users[int(len(users)*trainingProp):]\n",
    "len(testUsers)"
   ]
  },
  {
   "cell_type": "code",
   "execution_count": 17,
   "metadata": {},
   "outputs": [],
   "source": [
    "# I'm adding the movie info to the ratings now for ease of use in my clustering\n",
    "ratingsPlus = ratings.merge(movies, on=\"movieId\", how = \"inner\")"
   ]
  },
  {
   "cell_type": "code",
   "execution_count": 18,
   "metadata": {
    "scrolled": true
   },
   "outputs": [
    {
     "data": {
      "text/html": [
       "<div>\n",
       "<style scoped>\n",
       "    .dataframe tbody tr th:only-of-type {\n",
       "        vertical-align: middle;\n",
       "    }\n",
       "\n",
       "    .dataframe tbody tr th {\n",
       "        vertical-align: top;\n",
       "    }\n",
       "\n",
       "    .dataframe thead th {\n",
       "        text-align: right;\n",
       "    }\n",
       "</style>\n",
       "<table border=\"1\" class=\"dataframe\">\n",
       "  <thead>\n",
       "    <tr style=\"text-align: right;\">\n",
       "      <th></th>\n",
       "      <th>userId</th>\n",
       "      <th>movieId</th>\n",
       "      <th>rating</th>\n",
       "      <th>title</th>\n",
       "      <th>directedBy</th>\n",
       "      <th>starring</th>\n",
       "      <th>genres</th>\n",
       "    </tr>\n",
       "  </thead>\n",
       "  <tbody>\n",
       "    <tr>\n",
       "      <th>0</th>\n",
       "      <td>142882</td>\n",
       "      <td>91658</td>\n",
       "      <td>2.5</td>\n",
       "      <td>Girl with the Dragon Tattoo, The (2011)</td>\n",
       "      <td>David Fincher</td>\n",
       "      <td>Daniel Craig, Rooney Mara, Christopher Plummer...</td>\n",
       "      <td>Drama,Thriller</td>\n",
       "    </tr>\n",
       "    <tr>\n",
       "      <th>1</th>\n",
       "      <td>142911</td>\n",
       "      <td>91658</td>\n",
       "      <td>5.0</td>\n",
       "      <td>Girl with the Dragon Tattoo, The (2011)</td>\n",
       "      <td>David Fincher</td>\n",
       "      <td>Daniel Craig, Rooney Mara, Christopher Plummer...</td>\n",
       "      <td>Drama,Thriller</td>\n",
       "    </tr>\n",
       "    <tr>\n",
       "      <th>2</th>\n",
       "      <td>142893</td>\n",
       "      <td>91658</td>\n",
       "      <td>3.0</td>\n",
       "      <td>Girl with the Dragon Tattoo, The (2011)</td>\n",
       "      <td>David Fincher</td>\n",
       "      <td>Daniel Craig, Rooney Mara, Christopher Plummer...</td>\n",
       "      <td>Drama,Thriller</td>\n",
       "    </tr>\n",
       "    <tr>\n",
       "      <th>3</th>\n",
       "      <td>142884</td>\n",
       "      <td>91658</td>\n",
       "      <td>4.0</td>\n",
       "      <td>Girl with the Dragon Tattoo, The (2011)</td>\n",
       "      <td>David Fincher</td>\n",
       "      <td>Daniel Craig, Rooney Mara, Christopher Plummer...</td>\n",
       "      <td>Drama,Thriller</td>\n",
       "    </tr>\n",
       "    <tr>\n",
       "      <th>4</th>\n",
       "      <td>142322</td>\n",
       "      <td>91658</td>\n",
       "      <td>4.0</td>\n",
       "      <td>Girl with the Dragon Tattoo, The (2011)</td>\n",
       "      <td>David Fincher</td>\n",
       "      <td>Daniel Craig, Rooney Mara, Christopher Plummer...</td>\n",
       "      <td>Drama,Thriller</td>\n",
       "    </tr>\n",
       "  </tbody>\n",
       "</table>\n",
       "</div>"
      ],
      "text/plain": [
       "   userId  movieId  rating                                    title  \\\n",
       "0  142882    91658     2.5  Girl with the Dragon Tattoo, The (2011)   \n",
       "1  142911    91658     5.0  Girl with the Dragon Tattoo, The (2011)   \n",
       "2  142893    91658     3.0  Girl with the Dragon Tattoo, The (2011)   \n",
       "3  142884    91658     4.0  Girl with the Dragon Tattoo, The (2011)   \n",
       "4  142322    91658     4.0  Girl with the Dragon Tattoo, The (2011)   \n",
       "\n",
       "      directedBy                                           starring  \\\n",
       "0  David Fincher  Daniel Craig, Rooney Mara, Christopher Plummer...   \n",
       "1  David Fincher  Daniel Craig, Rooney Mara, Christopher Plummer...   \n",
       "2  David Fincher  Daniel Craig, Rooney Mara, Christopher Plummer...   \n",
       "3  David Fincher  Daniel Craig, Rooney Mara, Christopher Plummer...   \n",
       "4  David Fincher  Daniel Craig, Rooney Mara, Christopher Plummer...   \n",
       "\n",
       "           genres  \n",
       "0  Drama,Thriller  \n",
       "1  Drama,Thriller  \n",
       "2  Drama,Thriller  \n",
       "3  Drama,Thriller  \n",
       "4  Drama,Thriller  "
      ]
     },
     "execution_count": 18,
     "metadata": {},
     "output_type": "execute_result"
    }
   ],
   "source": [
    "ratingsPlus.head()"
   ]
  },
  {
   "cell_type": "code",
   "execution_count": 19,
   "metadata": {},
   "outputs": [
    {
     "data": {
      "text/html": [
       "<div>\n",
       "<style scoped>\n",
       "    .dataframe tbody tr th:only-of-type {\n",
       "        vertical-align: middle;\n",
       "    }\n",
       "\n",
       "    .dataframe tbody tr th {\n",
       "        vertical-align: top;\n",
       "    }\n",
       "\n",
       "    .dataframe thead th {\n",
       "        text-align: right;\n",
       "    }\n",
       "</style>\n",
       "<table border=\"1\" class=\"dataframe\">\n",
       "  <thead>\n",
       "    <tr style=\"text-align: right;\">\n",
       "      <th></th>\n",
       "      <th>userId</th>\n",
       "      <th>movieId</th>\n",
       "      <th>rating</th>\n",
       "      <th>title</th>\n",
       "      <th>directedBy</th>\n",
       "      <th>starring</th>\n",
       "      <th>genres</th>\n",
       "    </tr>\n",
       "  </thead>\n",
       "  <tbody>\n",
       "    <tr>\n",
       "      <th>0</th>\n",
       "      <td>142882</td>\n",
       "      <td>91658</td>\n",
       "      <td>2.5</td>\n",
       "      <td>Girl with the Dragon Tattoo, The (2011)</td>\n",
       "      <td>David Fincher</td>\n",
       "      <td>Daniel Craig, Rooney Mara, Christopher Plummer...</td>\n",
       "      <td>Drama,Thriller</td>\n",
       "    </tr>\n",
       "    <tr>\n",
       "      <th>2</th>\n",
       "      <td>142893</td>\n",
       "      <td>91658</td>\n",
       "      <td>3.0</td>\n",
       "      <td>Girl with the Dragon Tattoo, The (2011)</td>\n",
       "      <td>David Fincher</td>\n",
       "      <td>Daniel Craig, Rooney Mara, Christopher Plummer...</td>\n",
       "      <td>Drama,Thriller</td>\n",
       "    </tr>\n",
       "    <tr>\n",
       "      <th>3</th>\n",
       "      <td>142884</td>\n",
       "      <td>91658</td>\n",
       "      <td>4.0</td>\n",
       "      <td>Girl with the Dragon Tattoo, The (2011)</td>\n",
       "      <td>David Fincher</td>\n",
       "      <td>Daniel Craig, Rooney Mara, Christopher Plummer...</td>\n",
       "      <td>Drama,Thriller</td>\n",
       "    </tr>\n",
       "    <tr>\n",
       "      <th>4</th>\n",
       "      <td>142322</td>\n",
       "      <td>91658</td>\n",
       "      <td>4.0</td>\n",
       "      <td>Girl with the Dragon Tattoo, The (2011)</td>\n",
       "      <td>David Fincher</td>\n",
       "      <td>Daniel Craig, Rooney Mara, Christopher Plummer...</td>\n",
       "      <td>Drama,Thriller</td>\n",
       "    </tr>\n",
       "    <tr>\n",
       "      <th>9</th>\n",
       "      <td>141662</td>\n",
       "      <td>91658</td>\n",
       "      <td>5.0</td>\n",
       "      <td>Girl with the Dragon Tattoo, The (2011)</td>\n",
       "      <td>David Fincher</td>\n",
       "      <td>Daniel Craig, Rooney Mara, Christopher Plummer...</td>\n",
       "      <td>Drama,Thriller</td>\n",
       "    </tr>\n",
       "  </tbody>\n",
       "</table>\n",
       "</div>"
      ],
      "text/plain": [
       "   userId  movieId  rating                                    title  \\\n",
       "0  142882    91658     2.5  Girl with the Dragon Tattoo, The (2011)   \n",
       "2  142893    91658     3.0  Girl with the Dragon Tattoo, The (2011)   \n",
       "3  142884    91658     4.0  Girl with the Dragon Tattoo, The (2011)   \n",
       "4  142322    91658     4.0  Girl with the Dragon Tattoo, The (2011)   \n",
       "9  141662    91658     5.0  Girl with the Dragon Tattoo, The (2011)   \n",
       "\n",
       "      directedBy                                           starring  \\\n",
       "0  David Fincher  Daniel Craig, Rooney Mara, Christopher Plummer...   \n",
       "2  David Fincher  Daniel Craig, Rooney Mara, Christopher Plummer...   \n",
       "3  David Fincher  Daniel Craig, Rooney Mara, Christopher Plummer...   \n",
       "4  David Fincher  Daniel Craig, Rooney Mara, Christopher Plummer...   \n",
       "9  David Fincher  Daniel Craig, Rooney Mara, Christopher Plummer...   \n",
       "\n",
       "           genres  \n",
       "0  Drama,Thriller  \n",
       "2  Drama,Thriller  \n",
       "3  Drama,Thriller  \n",
       "4  Drama,Thriller  \n",
       "9  Drama,Thriller  "
      ]
     },
     "execution_count": 19,
     "metadata": {},
     "output_type": "execute_result"
    }
   ],
   "source": [
    "TrainingFilter = ratingsPlus[\"userId\"].isin(trainingUsers)\n",
    "ratingsForTraining = ratingsPlus[TrainingFilter]\n",
    "ratingsForTraining.head()"
   ]
  },
  {
   "cell_type": "code",
   "execution_count": 20,
   "metadata": {
    "scrolled": true
   },
   "outputs": [
    {
     "data": {
      "text/plain": [
       "88172"
      ]
     },
     "execution_count": 20,
     "metadata": {},
     "output_type": "execute_result"
    }
   ],
   "source": [
    "#Here I am extracting all the genres for each movie and putting them all in a list\n",
    "genreLists=movies[\"genres\"].str.split(\",\")\n",
    "genreList = []\n",
    "# make a list of all genres mentioned, with redundancy\n",
    "for movieGenres in genreLists:\n",
    "    genreList.extend(movieGenres)\n",
    "len(genreList)"
   ]
  },
  {
   "cell_type": "code",
   "execution_count": 21,
   "metadata": {},
   "outputs": [
    {
     "name": "stdout",
     "output_type": "stream",
     "text": [
      "{'Documentary', 'Adventure', 'IMAX', 'Drama', 'Animation', 'Sci-Fi', 'Children', 'War', 'Action', 'Western', 'Crime', 'Film-Noir', 'Devon Libran', 'Mystery', 'Fantasy', 'Musical', 'Comedy', 'Thriller', 'Horror', 'Romance'}\n"
     ]
    },
    {
     "data": {
      "text/plain": [
       "20"
      ]
     },
     "execution_count": 21,
     "metadata": {},
     "output_type": "execute_result"
    }
   ],
   "source": [
    "# this gets the unique list of genres by making it a set.\n",
    "genreList = set(genreList)\n",
    "print(genreList)\n",
    "len(genreList)"
   ]
  },
  {
   "cell_type": "code",
   "execution_count": 22,
   "metadata": {},
   "outputs": [],
   "source": [
    "compute = False\n",
    "\n",
    "# This is a really computationally intensive loop, so I will only run it if I need to.\n",
    "# If compute is false, it reads it from the file instead of recomputing everything.\n",
    "if compute:\n",
    "    userDicts = []\n",
    "    userIds = []\n",
    "    for thisUser in trainingUsers:\n",
    "        thisUserDict = {}\n",
    "        thisUsersRatings = ratingsForTraining[ratingsForTraining[\"userId\"] == thisUser]\n",
    "        #print(thisUsersRatings[[\"userId\", \"rating\", \"title\"]])\n",
    "        for genre in genreList:\n",
    "            genreFilter = thisUsersRatings[\"genres\"].str.contains(genre)\n",
    "            avgRating = thisUsersRatings[genreFilter][\"rating\"].mean()\n",
    "            thisUserDict[genre]=avgRating\n",
    "        userDicts.append(thisUserDict)\n",
    "        userIds.append(thisUser)\n",
    "    df = pd.DataFrame(userDicts, index = userIds)\n",
    "    df.to_csv('dataset/TrainingDf.csv')\n",
    "else:\n",
    "    df= pd.read_csv('dataset/TrainingDf.csv', index_col = 0)"
   ]
  },
  {
   "cell_type": "code",
   "execution_count": 23,
   "metadata": {},
   "outputs": [],
   "source": [
    "dfNoNan=df.replace(np.nan,0)"
   ]
  },
  {
   "cell_type": "code",
   "execution_count": 24,
   "metadata": {},
   "outputs": [],
   "source": [
    "nClusters= 100\n",
    "kmeans = KMeans(n_clusters=nClusters).fit(dfNoNan)"
   ]
  },
  {
   "cell_type": "code",
   "execution_count": 25,
   "metadata": {},
   "outputs": [
    {
     "data": {
      "image/png": "[encoded data removed]",
      "text/plain": [
       "<Figure size 432x288 with 1 Axes>"
      ]
     },
     "metadata": {
      "needs_background": "light"
     },
     "output_type": "display_data"
    }
   ],
   "source": [
    "plt.hist(kmeans.labels_, nClusters, [0,nClusters])\n",
    "plt.title(\"Users in each cluster\")\n",
    "plt.ylabel(\"Size of cluster\")\n",
    "plt.xlabel(\"Clusters\")\n",
    "plt.show()"
   ]
  },
  {
   "cell_type": "code",
   "execution_count": 26,
   "metadata": {},
   "outputs": [
    {
     "data": {
      "image/png": "[encoded data removed]",
      "text/plain": [
       "<Figure size 432x288 with 1 Axes>"
      ]
     },
     "metadata": {
      "needs_background": "light"
     },
     "output_type": "display_data"
    }
   ],
   "source": [
    "fig, ax = plt.subplots()\n",
    "ax.plot(kmeans.cluster_centers_.T)\n",
    "ax.set_xlabel('Genre')\n",
    "ax.set_ylabel('Average Rating')\n",
    "ax.set_xticks(range(len(dfNoNan.columns)))\n",
    "ax.set_xticklabels(dfNoNan.columns)\n",
    "ax.set_xticklabels(ax.xaxis.get_ticklabels(), rotation=90)\n",
    "ax.set_title(\"%d Clusters Based on Average Ratings for Various Genres\" %nClusters)\n",
    "\n",
    "plt.show()"
   ]
  },
  {
   "cell_type": "code",
   "execution_count": 27,
   "metadata": {},
   "outputs": [
    {
     "data": {
      "text/html": [
       "<div>\n",
       "<style scoped>\n",
       "    .dataframe tbody tr th:only-of-type {\n",
       "        vertical-align: middle;\n",
       "    }\n",
       "\n",
       "    .dataframe tbody tr th {\n",
       "        vertical-align: top;\n",
       "    }\n",
       "\n",
       "    .dataframe thead th {\n",
       "        text-align: right;\n",
       "    }\n",
       "</style>\n",
       "<table border=\"1\" class=\"dataframe\">\n",
       "  <thead>\n",
       "    <tr style=\"text-align: right;\">\n",
       "      <th></th>\n",
       "      <th>Documentary</th>\n",
       "      <th>Film-Noir</th>\n",
       "      <th>Fantasy</th>\n",
       "      <th>IMAX</th>\n",
       "      <th>Mystery</th>\n",
       "      <th>Western</th>\n",
       "      <th>Children</th>\n",
       "      <th>Musical</th>\n",
       "      <th>Drama</th>\n",
       "      <th>Thriller</th>\n",
       "      <th>Action</th>\n",
       "      <th>Comedy</th>\n",
       "      <th>Devon Libran</th>\n",
       "      <th>Adventure</th>\n",
       "      <th>Horror</th>\n",
       "      <th>Sci-Fi</th>\n",
       "      <th>Animation</th>\n",
       "      <th>War</th>\n",
       "      <th>Romance</th>\n",
       "      <th>Crime</th>\n",
       "    </tr>\n",
       "  </thead>\n",
       "  <tbody>\n",
       "    <tr>\n",
       "      <th>count</th>\n",
       "      <td>29483.000000</td>\n",
       "      <td>29483.000000</td>\n",
       "      <td>29483.000000</td>\n",
       "      <td>29483.000000</td>\n",
       "      <td>29483.000000</td>\n",
       "      <td>29483.000000</td>\n",
       "      <td>29483.000000</td>\n",
       "      <td>29483.000000</td>\n",
       "      <td>29483.000000</td>\n",
       "      <td>29483.000000</td>\n",
       "      <td>29483.000000</td>\n",
       "      <td>29483.000000</td>\n",
       "      <td>29483.000000</td>\n",
       "      <td>29483.000000</td>\n",
       "      <td>29483.000000</td>\n",
       "      <td>29483.000000</td>\n",
       "      <td>29483.000000</td>\n",
       "      <td>29483.000000</td>\n",
       "      <td>29483.000000</td>\n",
       "      <td>29483.000000</td>\n",
       "    </tr>\n",
       "    <tr>\n",
       "      <th>mean</th>\n",
       "      <td>1.456103</td>\n",
       "      <td>1.625025</td>\n",
       "      <td>3.504794</td>\n",
       "      <td>3.439773</td>\n",
       "      <td>3.521459</td>\n",
       "      <td>2.229577</td>\n",
       "      <td>3.011147</td>\n",
       "      <td>2.144561</td>\n",
       "      <td>3.898612</td>\n",
       "      <td>3.819324</td>\n",
       "      <td>3.763119</td>\n",
       "      <td>3.569113</td>\n",
       "      <td>0.000068</td>\n",
       "      <td>3.684438</td>\n",
       "      <td>2.971120</td>\n",
       "      <td>3.757724</td>\n",
       "      <td>3.104656</td>\n",
       "      <td>3.576610</td>\n",
       "      <td>3.489998</td>\n",
       "      <td>3.848228</td>\n",
       "    </tr>\n",
       "    <tr>\n",
       "      <th>std</th>\n",
       "      <td>1.907208</td>\n",
       "      <td>1.958409</td>\n",
       "      <td>1.130694</td>\n",
       "      <td>1.278423</td>\n",
       "      <td>1.298544</td>\n",
       "      <td>1.952787</td>\n",
       "      <td>1.506639</td>\n",
       "      <td>1.870193</td>\n",
       "      <td>0.633313</td>\n",
       "      <td>0.598559</td>\n",
       "      <td>0.618186</td>\n",
       "      <td>0.939647</td>\n",
       "      <td>0.011648</td>\n",
       "      <td>0.779620</td>\n",
       "      <td>1.545263</td>\n",
       "      <td>0.642640</td>\n",
       "      <td>1.534272</td>\n",
       "      <td>1.277824</td>\n",
       "      <td>1.160547</td>\n",
       "      <td>0.839139</td>\n",
       "    </tr>\n",
       "    <tr>\n",
       "      <th>min</th>\n",
       "      <td>0.000000</td>\n",
       "      <td>0.000000</td>\n",
       "      <td>0.000000</td>\n",
       "      <td>0.000000</td>\n",
       "      <td>0.000000</td>\n",
       "      <td>0.000000</td>\n",
       "      <td>0.000000</td>\n",
       "      <td>0.000000</td>\n",
       "      <td>0.000000</td>\n",
       "      <td>0.500000</td>\n",
       "      <td>0.500000</td>\n",
       "      <td>0.000000</td>\n",
       "      <td>0.000000</td>\n",
       "      <td>0.000000</td>\n",
       "      <td>0.000000</td>\n",
       "      <td>0.500000</td>\n",
       "      <td>0.000000</td>\n",
       "      <td>0.000000</td>\n",
       "      <td>0.000000</td>\n",
       "      <td>0.000000</td>\n",
       "    </tr>\n",
       "    <tr>\n",
       "      <th>25%</th>\n",
       "      <td>0.000000</td>\n",
       "      <td>0.000000</td>\n",
       "      <td>3.220000</td>\n",
       "      <td>3.166667</td>\n",
       "      <td>3.388889</td>\n",
       "      <td>0.000000</td>\n",
       "      <td>2.625000</td>\n",
       "      <td>0.000000</td>\n",
       "      <td>3.622222</td>\n",
       "      <td>3.500000</td>\n",
       "      <td>3.414703</td>\n",
       "      <td>3.285714</td>\n",
       "      <td>0.000000</td>\n",
       "      <td>3.361987</td>\n",
       "      <td>2.500000</td>\n",
       "      <td>3.402174</td>\n",
       "      <td>2.818182</td>\n",
       "      <td>3.400000</td>\n",
       "      <td>3.250000</td>\n",
       "      <td>3.583333</td>\n",
       "    </tr>\n",
       "    <tr>\n",
       "      <th>50%</th>\n",
       "      <td>0.000000</td>\n",
       "      <td>0.000000</td>\n",
       "      <td>3.750000</td>\n",
       "      <td>3.750000</td>\n",
       "      <td>3.875000</td>\n",
       "      <td>3.000000</td>\n",
       "      <td>3.500000</td>\n",
       "      <td>2.944444</td>\n",
       "      <td>3.964912</td>\n",
       "      <td>3.863636</td>\n",
       "      <td>3.812500</td>\n",
       "      <td>3.714286</td>\n",
       "      <td>0.000000</td>\n",
       "      <td>3.785714</td>\n",
       "      <td>3.500000</td>\n",
       "      <td>3.812500</td>\n",
       "      <td>3.642857</td>\n",
       "      <td>3.933333</td>\n",
       "      <td>3.750000</td>\n",
       "      <td>4.000000</td>\n",
       "    </tr>\n",
       "    <tr>\n",
       "      <th>75%</th>\n",
       "      <td>3.531582</td>\n",
       "      <td>3.800000</td>\n",
       "      <td>4.166667</td>\n",
       "      <td>4.224138</td>\n",
       "      <td>4.250000</td>\n",
       "      <td>4.000000</td>\n",
       "      <td>4.000000</td>\n",
       "      <td>3.833333</td>\n",
       "      <td>4.272727</td>\n",
       "      <td>4.207893</td>\n",
       "      <td>4.178571</td>\n",
       "      <td>4.100000</td>\n",
       "      <td>0.000000</td>\n",
       "      <td>4.155364</td>\n",
       "      <td>4.000000</td>\n",
       "      <td>4.180278</td>\n",
       "      <td>4.091507</td>\n",
       "      <td>4.333333</td>\n",
       "      <td>4.142857</td>\n",
       "      <td>4.333333</td>\n",
       "    </tr>\n",
       "    <tr>\n",
       "      <th>max</th>\n",
       "      <td>5.000000</td>\n",
       "      <td>5.000000</td>\n",
       "      <td>5.000000</td>\n",
       "      <td>5.000000</td>\n",
       "      <td>5.000000</td>\n",
       "      <td>5.000000</td>\n",
       "      <td>5.000000</td>\n",
       "      <td>5.000000</td>\n",
       "      <td>5.000000</td>\n",
       "      <td>5.000000</td>\n",
       "      <td>5.000000</td>\n",
       "      <td>5.000000</td>\n",
       "      <td>2.000000</td>\n",
       "      <td>5.000000</td>\n",
       "      <td>5.000000</td>\n",
       "      <td>5.000000</td>\n",
       "      <td>5.000000</td>\n",
       "      <td>5.000000</td>\n",
       "      <td>5.000000</td>\n",
       "      <td>5.000000</td>\n",
       "    </tr>\n",
       "  </tbody>\n",
       "</table>\n",
       "</div>"
      ],
      "text/plain": [
       "        Documentary     Film-Noir       Fantasy          IMAX       Mystery  \\\n",
       "count  29483.000000  29483.000000  29483.000000  29483.000000  29483.000000   \n",
       "mean       1.456103      1.625025      3.504794      3.439773      3.521459   \n",
       "std        1.907208      1.958409      1.130694      1.278423      1.298544   \n",
       "min        0.000000      0.000000      0.000000      0.000000      0.000000   \n",
       "25%        0.000000      0.000000      3.220000      3.166667      3.388889   \n",
       "50%        0.000000      0.000000      3.750000      3.750000      3.875000   \n",
       "75%        3.531582      3.800000      4.166667      4.224138      4.250000   \n",
       "max        5.000000      5.000000      5.000000      5.000000      5.000000   \n",
       "\n",
       "            Western      Children       Musical         Drama      Thriller  \\\n",
       "count  29483.000000  29483.000000  29483.000000  29483.000000  29483.000000   \n",
       "mean       2.229577      3.011147      2.144561      3.898612      3.819324   \n",
       "std        1.952787      1.506639      1.870193      0.633313      0.598559   \n",
       "min        0.000000      0.000000      0.000000      0.000000      0.500000   \n",
       "25%        0.000000      2.625000      0.000000      3.622222      3.500000   \n",
       "50%        3.000000      3.500000      2.944444      3.964912      3.863636   \n",
       "75%        4.000000      4.000000      3.833333      4.272727      4.207893   \n",
       "max        5.000000      5.000000      5.000000      5.000000      5.000000   \n",
       "\n",
       "             Action        Comedy  Devon Libran     Adventure        Horror  \\\n",
       "count  29483.000000  29483.000000  29483.000000  29483.000000  29483.000000   \n",
       "mean       3.763119      3.569113      0.000068      3.684438      2.971120   \n",
       "std        0.618186      0.939647      0.011648      0.779620      1.545263   \n",
       "min        0.500000      0.000000      0.000000      0.000000      0.000000   \n",
       "25%        3.414703      3.285714      0.000000      3.361987      2.500000   \n",
       "50%        3.812500      3.714286      0.000000      3.785714      3.500000   \n",
       "75%        4.178571      4.100000      0.000000      4.155364      4.000000   \n",
       "max        5.000000      5.000000      2.000000      5.000000      5.000000   \n",
       "\n",
       "             Sci-Fi     Animation           War       Romance         Crime  \n",
       "count  29483.000000  29483.000000  29483.000000  29483.000000  29483.000000  \n",
       "mean       3.757724      3.104656      3.576610      3.489998      3.848228  \n",
       "std        0.642640      1.534272      1.277824      1.160547      0.839139  \n",
       "min        0.500000      0.000000      0.000000      0.000000      0.000000  \n",
       "25%        3.402174      2.818182      3.400000      3.250000      3.583333  \n",
       "50%        3.812500      3.642857      3.933333      3.750000      4.000000  \n",
       "75%        4.180278      4.091507      4.333333      4.142857      4.333333  \n",
       "max        5.000000      5.000000      5.000000      5.000000      5.000000  "
      ]
     },
     "execution_count": 27,
     "metadata": {},
     "output_type": "execute_result"
    }
   ],
   "source": [
    "dfNoNan.describe()"
   ]
  },
  {
   "cell_type": "code",
   "execution_count": 28,
   "metadata": {},
   "outputs": [],
   "source": [
    "annotatedDf=dfNoNan\n",
    "annotatedDf[\"cluster\"]=kmeans.labels_"
   ]
  },
  {
   "cell_type": "code",
   "execution_count": 29,
   "metadata": {},
   "outputs": [],
   "source": [
    "userCluster = annotatedDf[\"cluster\"]"
   ]
  },
  {
   "cell_type": "code",
   "execution_count": 30,
   "metadata": {},
   "outputs": [],
   "source": [
    "Reviews=ratingsForTraining[[\"userId\", \"rating\"]][ratingsForTraining[\"movieId\"]==mId]\n",
    "indexedReviews = Reviews.set_index(\"userId\")"
   ]
  },
  {
   "cell_type": "code",
   "execution_count": 31,
   "metadata": {},
   "outputs": [],
   "source": [
    "indexedReviews[\"cluster\"]=userCluster"
   ]
  },
  {
   "cell_type": "code",
   "execution_count": 32,
   "metadata": {},
   "outputs": [
    {
     "data": {
      "text/html": [
       "<div>\n",
       "<style scoped>\n",
       "    .dataframe tbody tr th:only-of-type {\n",
       "        vertical-align: middle;\n",
       "    }\n",
       "\n",
       "    .dataframe tbody tr th {\n",
       "        vertical-align: top;\n",
       "    }\n",
       "\n",
       "    .dataframe thead th {\n",
       "        text-align: right;\n",
       "    }\n",
       "</style>\n",
       "<table border=\"1\" class=\"dataframe\">\n",
       "  <thead>\n",
       "    <tr style=\"text-align: right;\">\n",
       "      <th></th>\n",
       "      <th>rating</th>\n",
       "    </tr>\n",
       "    <tr>\n",
       "      <th>cluster</th>\n",
       "      <th></th>\n",
       "    </tr>\n",
       "  </thead>\n",
       "  <tbody>\n",
       "    <tr>\n",
       "      <th>0.0</th>\n",
       "      <td>4.184783</td>\n",
       "    </tr>\n",
       "    <tr>\n",
       "      <th>1.0</th>\n",
       "      <td>4.096639</td>\n",
       "    </tr>\n",
       "    <tr>\n",
       "      <th>2.0</th>\n",
       "      <td>4.218954</td>\n",
       "    </tr>\n",
       "    <tr>\n",
       "      <th>3.0</th>\n",
       "      <td>3.946389</td>\n",
       "    </tr>\n",
       "    <tr>\n",
       "      <th>4.0</th>\n",
       "      <td>3.740113</td>\n",
       "    </tr>\n",
       "  </tbody>\n",
       "</table>\n",
       "</div>"
      ],
      "text/plain": [
       "           rating\n",
       "cluster          \n",
       "0.0      4.184783\n",
       "1.0      4.096639\n",
       "2.0      4.218954\n",
       "3.0      3.946389\n",
       "4.0      3.740113"
      ]
     },
     "execution_count": 32,
     "metadata": {},
     "output_type": "execute_result"
    }
   ],
   "source": [
    "clusterRatings = indexedReviews[[\"rating\", \"cluster\"]].groupby(\"cluster\").mean()\n",
    "clusterRatings.head()"
   ]
  },
  {
   "cell_type": "code",
   "execution_count": 33,
   "metadata": {},
   "outputs": [
    {
     "data": {
      "text/plain": [
       "4.110351728114507"
      ]
     },
     "execution_count": 33,
     "metadata": {},
     "output_type": "execute_result"
    }
   ],
   "source": [
    "avgRating = indexedReviews[\"rating\"].mean()\n",
    "avgRating"
   ]
  },
  {
   "cell_type": "code",
   "execution_count": 34,
   "metadata": {},
   "outputs": [
    {
     "data": {
      "image/png": "[encoded data removed]",
      "text/plain": [
       "<Figure size 432x288 with 1 Axes>"
      ]
     },
     "metadata": {
      "needs_background": "light"
     },
     "output_type": "display_data"
    }
   ],
   "source": [
    "plt.hist(indexedReviews[\"rating\"])\n",
    "plt.show()"
   ]
  },
  {
   "cell_type": "code",
   "execution_count": 35,
   "metadata": {},
   "outputs": [
    {
     "data": {
      "text/html": [
       "<div>\n",
       "<style scoped>\n",
       "    .dataframe tbody tr th:only-of-type {\n",
       "        vertical-align: middle;\n",
       "    }\n",
       "\n",
       "    .dataframe tbody tr th {\n",
       "        vertical-align: top;\n",
       "    }\n",
       "\n",
       "    .dataframe thead th {\n",
       "        text-align: right;\n",
       "    }\n",
       "</style>\n",
       "<table border=\"1\" class=\"dataframe\">\n",
       "  <thead>\n",
       "    <tr style=\"text-align: right;\">\n",
       "      <th></th>\n",
       "      <th>userId</th>\n",
       "      <th>movieId</th>\n",
       "      <th>rating</th>\n",
       "      <th>title</th>\n",
       "      <th>directedBy</th>\n",
       "      <th>starring</th>\n",
       "      <th>genres</th>\n",
       "    </tr>\n",
       "  </thead>\n",
       "  <tbody>\n",
       "    <tr>\n",
       "      <th>1</th>\n",
       "      <td>142911</td>\n",
       "      <td>91658</td>\n",
       "      <td>5.0</td>\n",
       "      <td>Girl with the Dragon Tattoo, The (2011)</td>\n",
       "      <td>David Fincher</td>\n",
       "      <td>Daniel Craig, Rooney Mara, Christopher Plummer...</td>\n",
       "      <td>Drama,Thriller</td>\n",
       "    </tr>\n",
       "    <tr>\n",
       "      <th>5</th>\n",
       "      <td>142694</td>\n",
       "      <td>91658</td>\n",
       "      <td>4.0</td>\n",
       "      <td>Girl with the Dragon Tattoo, The (2011)</td>\n",
       "      <td>David Fincher</td>\n",
       "      <td>Daniel Craig, Rooney Mara, Christopher Plummer...</td>\n",
       "      <td>Drama,Thriller</td>\n",
       "    </tr>\n",
       "    <tr>\n",
       "      <th>6</th>\n",
       "      <td>142850</td>\n",
       "      <td>91658</td>\n",
       "      <td>3.5</td>\n",
       "      <td>Girl with the Dragon Tattoo, The (2011)</td>\n",
       "      <td>David Fincher</td>\n",
       "      <td>Daniel Craig, Rooney Mara, Christopher Plummer...</td>\n",
       "      <td>Drama,Thriller</td>\n",
       "    </tr>\n",
       "    <tr>\n",
       "      <th>8</th>\n",
       "      <td>142834</td>\n",
       "      <td>91658</td>\n",
       "      <td>3.5</td>\n",
       "      <td>Girl with the Dragon Tattoo, The (2011)</td>\n",
       "      <td>David Fincher</td>\n",
       "      <td>Daniel Craig, Rooney Mara, Christopher Plummer...</td>\n",
       "      <td>Drama,Thriller</td>\n",
       "    </tr>\n",
       "    <tr>\n",
       "      <th>10</th>\n",
       "      <td>142789</td>\n",
       "      <td>91658</td>\n",
       "      <td>4.0</td>\n",
       "      <td>Girl with the Dragon Tattoo, The (2011)</td>\n",
       "      <td>David Fincher</td>\n",
       "      <td>Daniel Craig, Rooney Mara, Christopher Plummer...</td>\n",
       "      <td>Drama,Thriller</td>\n",
       "    </tr>\n",
       "  </tbody>\n",
       "</table>\n",
       "</div>"
      ],
      "text/plain": [
       "    userId  movieId  rating                                    title  \\\n",
       "1   142911    91658     5.0  Girl with the Dragon Tattoo, The (2011)   \n",
       "5   142694    91658     4.0  Girl with the Dragon Tattoo, The (2011)   \n",
       "6   142850    91658     3.5  Girl with the Dragon Tattoo, The (2011)   \n",
       "8   142834    91658     3.5  Girl with the Dragon Tattoo, The (2011)   \n",
       "10  142789    91658     4.0  Girl with the Dragon Tattoo, The (2011)   \n",
       "\n",
       "       directedBy                                           starring  \\\n",
       "1   David Fincher  Daniel Craig, Rooney Mara, Christopher Plummer...   \n",
       "5   David Fincher  Daniel Craig, Rooney Mara, Christopher Plummer...   \n",
       "6   David Fincher  Daniel Craig, Rooney Mara, Christopher Plummer...   \n",
       "8   David Fincher  Daniel Craig, Rooney Mara, Christopher Plummer...   \n",
       "10  David Fincher  Daniel Craig, Rooney Mara, Christopher Plummer...   \n",
       "\n",
       "            genres  \n",
       "1   Drama,Thriller  \n",
       "5   Drama,Thriller  \n",
       "6   Drama,Thriller  \n",
       "8   Drama,Thriller  \n",
       "10  Drama,Thriller  "
      ]
     },
     "execution_count": 35,
     "metadata": {},
     "output_type": "execute_result"
    }
   ],
   "source": [
    "TestFilter = ratingsPlus[\"userId\"].isin(testUsers)\n",
    "ratingsForTest = ratingsPlus[TestFilter]\n",
    "ratingsForTest.head()"
   ]
  },
  {
   "cell_type": "code",
   "execution_count": 36,
   "metadata": {},
   "outputs": [],
   "source": [
    "if compute:\n",
    "    userDicts = []\n",
    "    userIds = []\n",
    "    for thisUser in testUsers:\n",
    "        thisUserDict = {}\n",
    "        thisUsersRatings = ratingsForTest[ratingsForTest[\"userId\"] == thisUser]\n",
    "        for genre in genreList:\n",
    "            genreFilter = thisUsersRatings[\"genres\"].str.contains(genre)\n",
    "            avgRating = thisUsersRatings[genreFilter][\"rating\"].mean()\n",
    "            thisUserDict[genre]=avgRating\n",
    "        userDicts.append(thisUserDict)\n",
    "        userIds.append(thisUser)\n",
    "    df2 = pd.DataFrame(userDicts, index = userIds)\n",
    "    df2.to_csv('dataset/TestingDf.csv')\n",
    "else:\n",
    "    df2= pd.read_csv('dataset/TestingDf.csv', index_col = 0)"
   ]
  },
  {
   "cell_type": "code",
   "execution_count": 37,
   "metadata": {},
   "outputs": [
    {
     "data": {
      "text/html": [
       "<div>\n",
       "<style scoped>\n",
       "    .dataframe tbody tr th:only-of-type {\n",
       "        vertical-align: middle;\n",
       "    }\n",
       "\n",
       "    .dataframe tbody tr th {\n",
       "        vertical-align: top;\n",
       "    }\n",
       "\n",
       "    .dataframe thead th {\n",
       "        text-align: right;\n",
       "    }\n",
       "</style>\n",
       "<table border=\"1\" class=\"dataframe\">\n",
       "  <thead>\n",
       "    <tr style=\"text-align: right;\">\n",
       "      <th></th>\n",
       "      <th>Documentary</th>\n",
       "      <th>Film-Noir</th>\n",
       "      <th>Fantasy</th>\n",
       "      <th>IMAX</th>\n",
       "      <th>Mystery</th>\n",
       "      <th>Western</th>\n",
       "      <th>Children</th>\n",
       "      <th>Musical</th>\n",
       "      <th>Drama</th>\n",
       "      <th>Thriller</th>\n",
       "      <th>Action</th>\n",
       "      <th>Comedy</th>\n",
       "      <th>Devon Libran</th>\n",
       "      <th>Adventure</th>\n",
       "      <th>Horror</th>\n",
       "      <th>Sci-Fi</th>\n",
       "      <th>Animation</th>\n",
       "      <th>War</th>\n",
       "      <th>Romance</th>\n",
       "      <th>Crime</th>\n",
       "    </tr>\n",
       "  </thead>\n",
       "  <tbody>\n",
       "    <tr>\n",
       "      <th>107822</th>\n",
       "      <td>0.000000</td>\n",
       "      <td>0.000000</td>\n",
       "      <td>3.000000</td>\n",
       "      <td>3.500000</td>\n",
       "      <td>5.000000</td>\n",
       "      <td>0.000000</td>\n",
       "      <td>4.125000</td>\n",
       "      <td>0.000000</td>\n",
       "      <td>3.833333</td>\n",
       "      <td>4.000000</td>\n",
       "      <td>3.000000</td>\n",
       "      <td>3.250000</td>\n",
       "      <td>0.0</td>\n",
       "      <td>3.416667</td>\n",
       "      <td>5.000000</td>\n",
       "      <td>3.500000</td>\n",
       "      <td>4.125000</td>\n",
       "      <td>3.500000</td>\n",
       "      <td>3.000000</td>\n",
       "      <td>0.000000</td>\n",
       "    </tr>\n",
       "    <tr>\n",
       "      <th>205577</th>\n",
       "      <td>0.000000</td>\n",
       "      <td>0.000000</td>\n",
       "      <td>4.769231</td>\n",
       "      <td>4.800000</td>\n",
       "      <td>4.500000</td>\n",
       "      <td>0.000000</td>\n",
       "      <td>4.800000</td>\n",
       "      <td>0.000000</td>\n",
       "      <td>4.400000</td>\n",
       "      <td>4.550000</td>\n",
       "      <td>4.595238</td>\n",
       "      <td>4.500000</td>\n",
       "      <td>0.0</td>\n",
       "      <td>4.764706</td>\n",
       "      <td>0.000000</td>\n",
       "      <td>4.687500</td>\n",
       "      <td>4.375000</td>\n",
       "      <td>5.000000</td>\n",
       "      <td>4.333333</td>\n",
       "      <td>4.625000</td>\n",
       "    </tr>\n",
       "    <tr>\n",
       "      <th>132373</th>\n",
       "      <td>4.136364</td>\n",
       "      <td>4.185714</td>\n",
       "      <td>3.857143</td>\n",
       "      <td>3.020833</td>\n",
       "      <td>4.136905</td>\n",
       "      <td>3.952381</td>\n",
       "      <td>4.086957</td>\n",
       "      <td>3.693548</td>\n",
       "      <td>3.856452</td>\n",
       "      <td>3.906417</td>\n",
       "      <td>3.688525</td>\n",
       "      <td>3.722591</td>\n",
       "      <td>0.0</td>\n",
       "      <td>3.758065</td>\n",
       "      <td>3.512195</td>\n",
       "      <td>3.602151</td>\n",
       "      <td>3.971831</td>\n",
       "      <td>4.050000</td>\n",
       "      <td>3.761628</td>\n",
       "      <td>4.064189</td>\n",
       "    </tr>\n",
       "    <tr>\n",
       "      <th>164045</th>\n",
       "      <td>0.000000</td>\n",
       "      <td>4.750000</td>\n",
       "      <td>3.869565</td>\n",
       "      <td>4.000000</td>\n",
       "      <td>4.068966</td>\n",
       "      <td>3.750000</td>\n",
       "      <td>3.750000</td>\n",
       "      <td>3.666667</td>\n",
       "      <td>3.750000</td>\n",
       "      <td>4.000000</td>\n",
       "      <td>3.971429</td>\n",
       "      <td>3.862500</td>\n",
       "      <td>0.0</td>\n",
       "      <td>3.890625</td>\n",
       "      <td>4.190476</td>\n",
       "      <td>3.972222</td>\n",
       "      <td>3.666667</td>\n",
       "      <td>2.833333</td>\n",
       "      <td>3.208333</td>\n",
       "      <td>4.250000</td>\n",
       "    </tr>\n",
       "    <tr>\n",
       "      <th>120306</th>\n",
       "      <td>0.000000</td>\n",
       "      <td>0.000000</td>\n",
       "      <td>4.750000</td>\n",
       "      <td>4.500000</td>\n",
       "      <td>0.000000</td>\n",
       "      <td>0.000000</td>\n",
       "      <td>0.000000</td>\n",
       "      <td>0.000000</td>\n",
       "      <td>4.222222</td>\n",
       "      <td>4.250000</td>\n",
       "      <td>3.600000</td>\n",
       "      <td>4.625000</td>\n",
       "      <td>0.0</td>\n",
       "      <td>4.000000</td>\n",
       "      <td>0.000000</td>\n",
       "      <td>4.250000</td>\n",
       "      <td>0.000000</td>\n",
       "      <td>3.375000</td>\n",
       "      <td>4.625000</td>\n",
       "      <td>4.166667</td>\n",
       "    </tr>\n",
       "  </tbody>\n",
       "</table>\n",
       "</div>"
      ],
      "text/plain": [
       "        Documentary  Film-Noir   Fantasy      IMAX   Mystery   Western  \\\n",
       "107822     0.000000   0.000000  3.000000  3.500000  5.000000  0.000000   \n",
       "205577     0.000000   0.000000  4.769231  4.800000  4.500000  0.000000   \n",
       "132373     4.136364   4.185714  3.857143  3.020833  4.136905  3.952381   \n",
       "164045     0.000000   4.750000  3.869565  4.000000  4.068966  3.750000   \n",
       "120306     0.000000   0.000000  4.750000  4.500000  0.000000  0.000000   \n",
       "\n",
       "        Children   Musical     Drama  Thriller    Action    Comedy  \\\n",
       "107822  4.125000  0.000000  3.833333  4.000000  3.000000  3.250000   \n",
       "205577  4.800000  0.000000  4.400000  4.550000  4.595238  4.500000   \n",
       "132373  4.086957  3.693548  3.856452  3.906417  3.688525  3.722591   \n",
       "164045  3.750000  3.666667  3.750000  4.000000  3.971429  3.862500   \n",
       "120306  0.000000  0.000000  4.222222  4.250000  3.600000  4.625000   \n",
       "\n",
       "        Devon Libran  Adventure    Horror    Sci-Fi  Animation       War  \\\n",
       "107822           0.0   3.416667  5.000000  3.500000   4.125000  3.500000   \n",
       "205577           0.0   4.764706  0.000000  4.687500   4.375000  5.000000   \n",
       "132373           0.0   3.758065  3.512195  3.602151   3.971831  4.050000   \n",
       "164045           0.0   3.890625  4.190476  3.972222   3.666667  2.833333   \n",
       "120306           0.0   4.000000  0.000000  4.250000   0.000000  3.375000   \n",
       "\n",
       "         Romance     Crime  \n",
       "107822  3.000000  0.000000  \n",
       "205577  4.333333  4.625000  \n",
       "132373  3.761628  4.064189  \n",
       "164045  3.208333  4.250000  \n",
       "120306  4.625000  4.166667  "
      ]
     },
     "execution_count": 37,
     "metadata": {},
     "output_type": "execute_result"
    }
   ],
   "source": [
    "df2NoNan=df2.replace(np.nan,0)\n",
    "df2NoNan.head()"
   ]
  },
  {
   "cell_type": "code",
   "execution_count": 38,
   "metadata": {},
   "outputs": [],
   "source": [
    "predictions = kmeans.predict(df2NoNan)"
   ]
  },
  {
   "cell_type": "code",
   "execution_count": 39,
   "metadata": {},
   "outputs": [],
   "source": [
    "testData = pd.DataFrame()\n",
    "testData = df2NoNan\n",
    "testData[\"cluster\"] = predictions\n",
    "#pd.Series(predictions)"
   ]
  },
  {
   "cell_type": "code",
   "execution_count": 40,
   "metadata": {},
   "outputs": [
    {
     "data": {
      "text/html": [
       "<div>\n",
       "<style scoped>\n",
       "    .dataframe tbody tr th:only-of-type {\n",
       "        vertical-align: middle;\n",
       "    }\n",
       "\n",
       "    .dataframe tbody tr th {\n",
       "        vertical-align: top;\n",
       "    }\n",
       "\n",
       "    .dataframe thead th {\n",
       "        text-align: right;\n",
       "    }\n",
       "</style>\n",
       "<table border=\"1\" class=\"dataframe\">\n",
       "  <thead>\n",
       "    <tr style=\"text-align: right;\">\n",
       "      <th></th>\n",
       "      <th>Documentary</th>\n",
       "      <th>Film-Noir</th>\n",
       "      <th>Fantasy</th>\n",
       "      <th>IMAX</th>\n",
       "      <th>Mystery</th>\n",
       "      <th>Western</th>\n",
       "      <th>Children</th>\n",
       "      <th>Musical</th>\n",
       "      <th>Drama</th>\n",
       "      <th>Thriller</th>\n",
       "      <th>...</th>\n",
       "      <th>Comedy</th>\n",
       "      <th>Devon Libran</th>\n",
       "      <th>Adventure</th>\n",
       "      <th>Horror</th>\n",
       "      <th>Sci-Fi</th>\n",
       "      <th>Animation</th>\n",
       "      <th>War</th>\n",
       "      <th>Romance</th>\n",
       "      <th>Crime</th>\n",
       "      <th>cluster</th>\n",
       "    </tr>\n",
       "  </thead>\n",
       "  <tbody>\n",
       "    <tr>\n",
       "      <th>107822</th>\n",
       "      <td>0.000000</td>\n",
       "      <td>0.000000</td>\n",
       "      <td>3.000000</td>\n",
       "      <td>3.500000</td>\n",
       "      <td>5.000000</td>\n",
       "      <td>0.000000</td>\n",
       "      <td>4.125000</td>\n",
       "      <td>0.000000</td>\n",
       "      <td>3.833333</td>\n",
       "      <td>4.000000</td>\n",
       "      <td>...</td>\n",
       "      <td>3.250000</td>\n",
       "      <td>0.0</td>\n",
       "      <td>3.416667</td>\n",
       "      <td>5.000000</td>\n",
       "      <td>3.500000</td>\n",
       "      <td>4.125000</td>\n",
       "      <td>3.500000</td>\n",
       "      <td>3.000000</td>\n",
       "      <td>0.000000</td>\n",
       "      <td>10</td>\n",
       "    </tr>\n",
       "    <tr>\n",
       "      <th>205577</th>\n",
       "      <td>0.000000</td>\n",
       "      <td>0.000000</td>\n",
       "      <td>4.769231</td>\n",
       "      <td>4.800000</td>\n",
       "      <td>4.500000</td>\n",
       "      <td>0.000000</td>\n",
       "      <td>4.800000</td>\n",
       "      <td>0.000000</td>\n",
       "      <td>4.400000</td>\n",
       "      <td>4.550000</td>\n",
       "      <td>...</td>\n",
       "      <td>4.500000</td>\n",
       "      <td>0.0</td>\n",
       "      <td>4.764706</td>\n",
       "      <td>0.000000</td>\n",
       "      <td>4.687500</td>\n",
       "      <td>4.375000</td>\n",
       "      <td>5.000000</td>\n",
       "      <td>4.333333</td>\n",
       "      <td>4.625000</td>\n",
       "      <td>35</td>\n",
       "    </tr>\n",
       "    <tr>\n",
       "      <th>132373</th>\n",
       "      <td>4.136364</td>\n",
       "      <td>4.185714</td>\n",
       "      <td>3.857143</td>\n",
       "      <td>3.020833</td>\n",
       "      <td>4.136905</td>\n",
       "      <td>3.952381</td>\n",
       "      <td>4.086957</td>\n",
       "      <td>3.693548</td>\n",
       "      <td>3.856452</td>\n",
       "      <td>3.906417</td>\n",
       "      <td>...</td>\n",
       "      <td>3.722591</td>\n",
       "      <td>0.0</td>\n",
       "      <td>3.758065</td>\n",
       "      <td>3.512195</td>\n",
       "      <td>3.602151</td>\n",
       "      <td>3.971831</td>\n",
       "      <td>4.050000</td>\n",
       "      <td>3.761628</td>\n",
       "      <td>4.064189</td>\n",
       "      <td>96</td>\n",
       "    </tr>\n",
       "    <tr>\n",
       "      <th>164045</th>\n",
       "      <td>0.000000</td>\n",
       "      <td>4.750000</td>\n",
       "      <td>3.869565</td>\n",
       "      <td>4.000000</td>\n",
       "      <td>4.068966</td>\n",
       "      <td>3.750000</td>\n",
       "      <td>3.750000</td>\n",
       "      <td>3.666667</td>\n",
       "      <td>3.750000</td>\n",
       "      <td>4.000000</td>\n",
       "      <td>...</td>\n",
       "      <td>3.862500</td>\n",
       "      <td>0.0</td>\n",
       "      <td>3.890625</td>\n",
       "      <td>4.190476</td>\n",
       "      <td>3.972222</td>\n",
       "      <td>3.666667</td>\n",
       "      <td>2.833333</td>\n",
       "      <td>3.208333</td>\n",
       "      <td>4.250000</td>\n",
       "      <td>2</td>\n",
       "    </tr>\n",
       "    <tr>\n",
       "      <th>120306</th>\n",
       "      <td>0.000000</td>\n",
       "      <td>0.000000</td>\n",
       "      <td>4.750000</td>\n",
       "      <td>4.500000</td>\n",
       "      <td>0.000000</td>\n",
       "      <td>0.000000</td>\n",
       "      <td>0.000000</td>\n",
       "      <td>0.000000</td>\n",
       "      <td>4.222222</td>\n",
       "      <td>4.250000</td>\n",
       "      <td>...</td>\n",
       "      <td>4.625000</td>\n",
       "      <td>0.0</td>\n",
       "      <td>4.000000</td>\n",
       "      <td>0.000000</td>\n",
       "      <td>4.250000</td>\n",
       "      <td>0.000000</td>\n",
       "      <td>3.375000</td>\n",
       "      <td>4.625000</td>\n",
       "      <td>4.166667</td>\n",
       "      <td>58</td>\n",
       "    </tr>\n",
       "  </tbody>\n",
       "</table>\n",
       "<p>5 rows × 21 columns</p>\n",
       "</div>"
      ],
      "text/plain": [
       "        Documentary  Film-Noir   Fantasy      IMAX   Mystery   Western  \\\n",
       "107822     0.000000   0.000000  3.000000  3.500000  5.000000  0.000000   \n",
       "205577     0.000000   0.000000  4.769231  4.800000  4.500000  0.000000   \n",
       "132373     4.136364   4.185714  3.857143  3.020833  4.136905  3.952381   \n",
       "164045     0.000000   4.750000  3.869565  4.000000  4.068966  3.750000   \n",
       "120306     0.000000   0.000000  4.750000  4.500000  0.000000  0.000000   \n",
       "\n",
       "        Children   Musical     Drama  Thriller  ...    Comedy  Devon Libran  \\\n",
       "107822  4.125000  0.000000  3.833333  4.000000  ...  3.250000           0.0   \n",
       "205577  4.800000  0.000000  4.400000  4.550000  ...  4.500000           0.0   \n",
       "132373  4.086957  3.693548  3.856452  3.906417  ...  3.722591           0.0   \n",
       "164045  3.750000  3.666667  3.750000  4.000000  ...  3.862500           0.0   \n",
       "120306  0.000000  0.000000  4.222222  4.250000  ...  4.625000           0.0   \n",
       "\n",
       "        Adventure    Horror    Sci-Fi  Animation       War   Romance  \\\n",
       "107822   3.416667  5.000000  3.500000   4.125000  3.500000  3.000000   \n",
       "205577   4.764706  0.000000  4.687500   4.375000  5.000000  4.333333   \n",
       "132373   3.758065  3.512195  3.602151   3.971831  4.050000  3.761628   \n",
       "164045   3.890625  4.190476  3.972222   3.666667  2.833333  3.208333   \n",
       "120306   4.000000  0.000000  4.250000   0.000000  3.375000  4.625000   \n",
       "\n",
       "           Crime  cluster  \n",
       "107822  0.000000       10  \n",
       "205577  4.625000       35  \n",
       "132373  4.064189       96  \n",
       "164045  4.250000        2  \n",
       "120306  4.166667       58  \n",
       "\n",
       "[5 rows x 21 columns]"
      ]
     },
     "execution_count": 40,
     "metadata": {},
     "output_type": "execute_result"
    }
   ],
   "source": [
    "testData.head()"
   ]
  },
  {
   "cell_type": "code",
   "execution_count": 41,
   "metadata": {},
   "outputs": [],
   "source": [
    "testAssignments = pd.DataFrame({\"cluster\": testData[\"cluster\"]})\n",
    "#testAssignments.head()"
   ]
  },
  {
   "cell_type": "code",
   "execution_count": 42,
   "metadata": {},
   "outputs": [],
   "source": [
    "testAssignments.insert(1,\"ratingPredict\", testAssignments[\"cluster\"]*0)"
   ]
  },
  {
   "cell_type": "code",
   "execution_count": 43,
   "metadata": {},
   "outputs": [
    {
     "name": "stderr",
     "output_type": "stream",
     "text": [
      "C:\\Users\\battu\\anaconda3\\lib\\site-packages\\pandas\\core\\indexing.py:670: SettingWithCopyWarning: \n",
      "A value is trying to be set on a copy of a slice from a DataFrame\n",
      "\n",
      "See the caveats in the documentation: https://pandas.pydata.org/pandas-docs/stable/user_guide/indexing.html#returning-a-view-versus-a-copy\n",
      "  self._setitem_with_indexer(indexer, value)\n"
     ]
    }
   ],
   "source": [
    "for i in range(len(testAssignments)):\n",
    "    testAssignments[\"ratingPredict\"].iloc[i]=clusterRatings.loc[testAssignments[\"cluster\"].iloc[i]][\"rating\"]"
   ]
  },
  {
   "cell_type": "code",
   "execution_count": 44,
   "metadata": {},
   "outputs": [
    {
     "data": {
      "text/html": [
       "<div>\n",
       "<style scoped>\n",
       "    .dataframe tbody tr th:only-of-type {\n",
       "        vertical-align: middle;\n",
       "    }\n",
       "\n",
       "    .dataframe tbody tr th {\n",
       "        vertical-align: top;\n",
       "    }\n",
       "\n",
       "    .dataframe thead th {\n",
       "        text-align: right;\n",
       "    }\n",
       "</style>\n",
       "<table border=\"1\" class=\"dataframe\">\n",
       "  <thead>\n",
       "    <tr style=\"text-align: right;\">\n",
       "      <th></th>\n",
       "      <th>cluster</th>\n",
       "      <th>ratingPredict</th>\n",
       "      <th>userId</th>\n",
       "    </tr>\n",
       "  </thead>\n",
       "  <tbody>\n",
       "    <tr>\n",
       "      <th>107822</th>\n",
       "      <td>10</td>\n",
       "      <td>3.958869</td>\n",
       "      <td>107822</td>\n",
       "    </tr>\n",
       "    <tr>\n",
       "      <th>205577</th>\n",
       "      <td>35</td>\n",
       "      <td>4.429889</td>\n",
       "      <td>205577</td>\n",
       "    </tr>\n",
       "    <tr>\n",
       "      <th>132373</th>\n",
       "      <td>96</td>\n",
       "      <td>4.324949</td>\n",
       "      <td>132373</td>\n",
       "    </tr>\n",
       "    <tr>\n",
       "      <th>164045</th>\n",
       "      <td>2</td>\n",
       "      <td>4.218954</td>\n",
       "      <td>164045</td>\n",
       "    </tr>\n",
       "    <tr>\n",
       "      <th>120306</th>\n",
       "      <td>58</td>\n",
       "      <td>4.074468</td>\n",
       "      <td>120306</td>\n",
       "    </tr>\n",
       "  </tbody>\n",
       "</table>\n",
       "</div>"
      ],
      "text/plain": [
       "        cluster  ratingPredict  userId\n",
       "107822       10       3.958869  107822\n",
       "205577       35       4.429889  205577\n",
       "132373       96       4.324949  132373\n",
       "164045        2       4.218954  164045\n",
       "120306       58       4.074468  120306"
      ]
     },
     "execution_count": 44,
     "metadata": {},
     "output_type": "execute_result"
    }
   ],
   "source": [
    "testAssignments[\"userId\"]=testAssignments.index\n",
    "testAssignments.head()"
   ]
  },
  {
   "cell_type": "code",
   "execution_count": 45,
   "metadata": {},
   "outputs": [],
   "source": [
    "TestReviews=ratingsForTest[[\"userId\", \"rating\"]][ratingsForTest[\"movieId\"]==mId]"
   ]
  },
  {
   "cell_type": "code",
   "execution_count": 46,
   "metadata": {},
   "outputs": [],
   "source": [
    "testPredictTrue = testAssignments.merge(TestReviews, on=\"userId\")"
   ]
  },
  {
   "cell_type": "code",
   "execution_count": 47,
   "metadata": {},
   "outputs": [
    {
     "data": {
      "text/html": [
       "<div>\n",
       "<style scoped>\n",
       "    .dataframe tbody tr th:only-of-type {\n",
       "        vertical-align: middle;\n",
       "    }\n",
       "\n",
       "    .dataframe tbody tr th {\n",
       "        vertical-align: top;\n",
       "    }\n",
       "\n",
       "    .dataframe thead th {\n",
       "        text-align: right;\n",
       "    }\n",
       "</style>\n",
       "<table border=\"1\" class=\"dataframe\">\n",
       "  <thead>\n",
       "    <tr style=\"text-align: right;\">\n",
       "      <th></th>\n",
       "      <th>cluster</th>\n",
       "      <th>ratingPredict</th>\n",
       "      <th>userId</th>\n",
       "      <th>rating</th>\n",
       "      <th>defaultPredict</th>\n",
       "    </tr>\n",
       "  </thead>\n",
       "  <tbody>\n",
       "    <tr>\n",
       "      <th>0</th>\n",
       "      <td>35</td>\n",
       "      <td>4.429889</td>\n",
       "      <td>205577</td>\n",
       "      <td>5.0</td>\n",
       "      <td>4.110352</td>\n",
       "    </tr>\n",
       "    <tr>\n",
       "      <th>1</th>\n",
       "      <td>96</td>\n",
       "      <td>4.324949</td>\n",
       "      <td>132373</td>\n",
       "      <td>5.0</td>\n",
       "      <td>4.110352</td>\n",
       "    </tr>\n",
       "    <tr>\n",
       "      <th>2</th>\n",
       "      <td>33</td>\n",
       "      <td>4.435849</td>\n",
       "      <td>117808</td>\n",
       "      <td>5.0</td>\n",
       "      <td>4.110352</td>\n",
       "    </tr>\n",
       "    <tr>\n",
       "      <th>3</th>\n",
       "      <td>10</td>\n",
       "      <td>3.958869</td>\n",
       "      <td>141933</td>\n",
       "      <td>5.0</td>\n",
       "      <td>4.110352</td>\n",
       "    </tr>\n",
       "    <tr>\n",
       "      <th>4</th>\n",
       "      <td>40</td>\n",
       "      <td>4.600000</td>\n",
       "      <td>157064</td>\n",
       "      <td>5.0</td>\n",
       "      <td>4.110352</td>\n",
       "    </tr>\n",
       "  </tbody>\n",
       "</table>\n",
       "</div>"
      ],
      "text/plain": [
       "   cluster  ratingPredict  userId  rating  defaultPredict\n",
       "0       35       4.429889  205577     5.0        4.110352\n",
       "1       96       4.324949  132373     5.0        4.110352\n",
       "2       33       4.435849  117808     5.0        4.110352\n",
       "3       10       3.958869  141933     5.0        4.110352\n",
       "4       40       4.600000  157064     5.0        4.110352"
      ]
     },
     "execution_count": 47,
     "metadata": {},
     "output_type": "execute_result"
    }
   ],
   "source": [
    "testPredictTrue[\"defaultPredict\"]=avgRating\n",
    "testPredictTrue.head()"
   ]
  },
  {
   "cell_type": "code",
   "execution_count": 48,
   "metadata": {},
   "outputs": [
    {
     "name": "stdout",
     "output_type": "stream",
     "text": [
      "0.8556098451515987\n"
     ]
    }
   ],
   "source": [
    "# calculating rmse error between actual rating and ratingPredicted\n",
    "predictScore = np.sqrt(((testPredictTrue[\"ratingPredict\"]-testPredictTrue[\"rating\"])**2).mean())\n",
    "print(predictScore)"
   ]
  },
  {
   "cell_type": "code",
   "execution_count": 49,
   "metadata": {},
   "outputs": [
    {
     "name": "stdout",
     "output_type": "stream",
     "text": [
      "0.9420421598620297\n"
     ]
    }
   ],
   "source": [
    "# calculating rmse error between actual ratig and default prediction\n",
    "defaultScore = np.sqrt(((testPredictTrue[\"rating\"]-testPredictTrue[\"defaultPredict\"])**2).mean())\n",
    "print(defaultScore)"
   ]
  },
  {
   "cell_type": "code",
   "execution_count": 50,
   "metadata": {},
   "outputs": [
    {
     "name": "stdout",
     "output_type": "stream",
     "text": [
      "% improvement:  9.174994325422736\n"
     ]
    }
   ],
   "source": [
    "print(\"% improvement: \",(defaultScore-predictScore)/defaultScore*100)"
   ]
  },
  {
   "cell_type": "code",
   "execution_count": 51,
   "metadata": {},
   "outputs": [],
   "source": [
    "clusterTestRatings = testPredictTrue[[\"rating\", \"cluster\"]].groupby(\"cluster\").mean()"
   ]
  },
  {
   "cell_type": "code",
   "execution_count": 52,
   "metadata": {},
   "outputs": [],
   "source": [
    "TestReviews=ratingsForTest[[\"userId\", \"rating\"]][ratingsForTest[\"movieId\"]==mId]"
   ]
  },
  {
   "cell_type": "code",
   "execution_count": 53,
   "metadata": {},
   "outputs": [
    {
     "name": "stdout",
     "output_type": "stream",
     "text": [
      "   training ratings  test ratings\n",
      "0          4.184783      4.226415\n",
      "1          4.096639      4.225000\n",
      "2          4.218954      4.166667\n",
      "3          3.946389      3.869318\n",
      "4          3.740113      3.365854\n",
      "                  training ratings  test ratings\n",
      "training ratings           1.00000       0.95514\n",
      "test ratings               0.95514       1.00000\n"
     ]
    },
    {
     "data": {
      "image/png": "[encoded data removed]",
      "text/plain": [
       "<Figure size 432x288 with 1 Axes>"
      ]
     },
     "metadata": {
      "needs_background": "light"
     },
     "output_type": "display_data"
    }
   ],
   "source": [
    "index=range(0,5)\n",
    "column_names = ['training ratings', 'test ratings']\n",
    "df_pred = pd.DataFrame(index = index, columns = column_names)\n",
    "df_pred['training ratings'] = clusterRatings\n",
    "df_pred['test ratings'] = clusterTestRatings\n",
    "print(df_pred.head())\n",
    "print(df_pred.corr())\n",
    "plt.scatter(clusterRatings, clusterTestRatings)\n",
    "plt.title(\"Correlation between training and test clusters\")\n",
    "plt.xlabel(\"Training Data avg. rating for Action Fiction\")\n",
    "plt.ylabel(\"Test Data avg. rating for Action Fiction\")\n",
    "plt.show()"
   ]
  },
  {
   "cell_type": "code",
   "execution_count": 55,
   "metadata": {},
   "outputs": [
    {
     "data": {
      "text/html": [
       "<div>\n",
       "<style scoped>\n",
       "    .dataframe tbody tr th:only-of-type {\n",
       "        vertical-align: middle;\n",
       "    }\n",
       "\n",
       "    .dataframe tbody tr th {\n",
       "        vertical-align: top;\n",
       "    }\n",
       "\n",
       "    .dataframe thead th {\n",
       "        text-align: right;\n",
       "    }\n",
       "</style>\n",
       "<table border=\"1\" class=\"dataframe\">\n",
       "  <thead>\n",
       "    <tr style=\"text-align: right;\">\n",
       "      <th></th>\n",
       "      <th>cluster</th>\n",
       "      <th>ratingPredict</th>\n",
       "      <th>userId</th>\n",
       "      <th>rating</th>\n",
       "      <th>defaultPredict</th>\n",
       "    </tr>\n",
       "  </thead>\n",
       "  <tbody>\n",
       "    <tr>\n",
       "      <th>count</th>\n",
       "      <td>3771.000000</td>\n",
       "      <td>3771.000000</td>\n",
       "      <td>3771.000000</td>\n",
       "      <td>3771.000000</td>\n",
       "      <td>3.771000e+03</td>\n",
       "    </tr>\n",
       "    <tr>\n",
       "      <th>mean</th>\n",
       "      <td>43.642270</td>\n",
       "      <td>4.104595</td>\n",
       "      <td>145944.291435</td>\n",
       "      <td>4.095068</td>\n",
       "      <td>4.110352e+00</td>\n",
       "    </tr>\n",
       "    <tr>\n",
       "      <th>std</th>\n",
       "      <td>31.834612</td>\n",
       "      <td>0.370208</td>\n",
       "      <td>34147.580596</td>\n",
       "      <td>0.942043</td>\n",
       "      <td>3.650897e-13</td>\n",
       "    </tr>\n",
       "    <tr>\n",
       "      <th>min</th>\n",
       "      <td>0.000000</td>\n",
       "      <td>1.987500</td>\n",
       "      <td>100006.000000</td>\n",
       "      <td>0.500000</td>\n",
       "      <td>4.110352e+00</td>\n",
       "    </tr>\n",
       "    <tr>\n",
       "      <th>25%</th>\n",
       "      <td>16.000000</td>\n",
       "      <td>3.974874</td>\n",
       "      <td>116565.000000</td>\n",
       "      <td>3.500000</td>\n",
       "      <td>4.110352e+00</td>\n",
       "    </tr>\n",
       "    <tr>\n",
       "      <th>50%</th>\n",
       "      <td>38.000000</td>\n",
       "      <td>4.184783</td>\n",
       "      <td>136175.000000</td>\n",
       "      <td>4.000000</td>\n",
       "      <td>4.110352e+00</td>\n",
       "    </tr>\n",
       "    <tr>\n",
       "      <th>75%</th>\n",
       "      <td>73.000000</td>\n",
       "      <td>4.324949</td>\n",
       "      <td>176931.500000</td>\n",
       "      <td>5.000000</td>\n",
       "      <td>4.110352e+00</td>\n",
       "    </tr>\n",
       "    <tr>\n",
       "      <th>max</th>\n",
       "      <td>99.000000</td>\n",
       "      <td>4.629397</td>\n",
       "      <td>206976.000000</td>\n",
       "      <td>5.000000</td>\n",
       "      <td>4.110352e+00</td>\n",
       "    </tr>\n",
       "  </tbody>\n",
       "</table>\n",
       "</div>"
      ],
      "text/plain": [
       "           cluster  ratingPredict         userId       rating  defaultPredict\n",
       "count  3771.000000    3771.000000    3771.000000  3771.000000    3.771000e+03\n",
       "mean     43.642270       4.104595  145944.291435     4.095068    4.110352e+00\n",
       "std      31.834612       0.370208   34147.580596     0.942043    3.650897e-13\n",
       "min       0.000000       1.987500  100006.000000     0.500000    4.110352e+00\n",
       "25%      16.000000       3.974874  116565.000000     3.500000    4.110352e+00\n",
       "50%      38.000000       4.184783  136175.000000     4.000000    4.110352e+00\n",
       "75%      73.000000       4.324949  176931.500000     5.000000    4.110352e+00\n",
       "max      99.000000       4.629397  206976.000000     5.000000    4.110352e+00"
      ]
     },
     "execution_count": 55,
     "metadata": {},
     "output_type": "execute_result"
    }
   ],
   "source": [
    "testPredictTrue.describe()"
   ]
  },
  {
   "cell_type": "code",
   "execution_count": 56,
   "metadata": {},
   "outputs": [
    {
     "name": "stdout",
     "output_type": "stream",
     "text": [
      "0.8556098451515993\n"
     ]
    }
   ],
   "source": [
    "# another way of calculating rmse\n",
    "from sklearn.metrics import mean_squared_error\n",
    "import math\n",
    "\n",
    "y_true = testPredictTrue[\"rating\"]\n",
    "y_pred = testPredictTrue[\"ratingPredict\"]\n",
    "mse = mean_squared_error(y_true, y_pred)\n",
    "rmse = math.sqrt(mse)\n",
    "\n",
    "print(rmse)"
   ]
  },
  {
   "cell_type": "code",
   "execution_count": null,
   "metadata": {},
   "outputs": [],
   "source": []
  },
  {
   "cell_type": "code",
   "execution_count": null,
   "metadata": {},
   "outputs": [],
   "source": []
  }
 ],
 "metadata": {
  "kernelspec": {
   "display_name": "Python 3",
   "language": "python",
   "name": "python3"
  },
  "language_info": {
   "codemirror_mode": {
    "name": "ipython",
    "version": 3
   },
   "file_extension": ".py",
   "mimetype": "text/x-python",
   "name": "python",
   "nbconvert_exporter": "python",
   "pygments_lexer": "ipython3",
   "version": "3.7.6"
  }
 },
 "nbformat": 4,
 "nbformat_minor": 4
}
